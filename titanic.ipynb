{
 "cells": [
  {
   "cell_type": "code",
   "execution_count": 90,
   "metadata": {},
   "outputs": [
    {
     "name": "stdout",
     "output_type": "stream",
     "text": [
      "   PassengerId  Survived  Pclass  \\\n",
      "0          892         0       3   \n",
      "1          893         1       3   \n",
      "2          894         0       2   \n",
      "3          895         0       3   \n",
      "4          896         1       3   \n",
      "\n",
      "                                           Name     Sex   Age  SibSp  Parch  \\\n",
      "0                              Kelly, Mr. James    male  34.5      0      0   \n",
      "1              Wilkes, Mrs. James (Ellen Needs)  female  47.0      1      0   \n",
      "2                     Myles, Mr. Thomas Francis    male  62.0      0      0   \n",
      "3                              Wirz, Mr. Albert    male  27.0      0      0   \n",
      "4  Hirvonen, Mrs. Alexander (Helga E Lindqvist)  female  22.0      1      1   \n",
      "\n",
      "    Ticket     Fare Cabin Embarked  \n",
      "0   330911   7.8292   NaN        Q  \n",
      "1   363272   7.0000   NaN        S  \n",
      "2   240276   9.6875   NaN        Q  \n",
      "3   315154   8.6625   NaN        S  \n",
      "4  3101298  12.2875   NaN        S  \n"
     ]
    }
   ],
   "source": [
    "import pandas as pd;\n",
    "#读入表格\n",
    "\n",
    "data=pd.read_csv('titanic.csv')\n",
    "\n",
    "print(data.head(5))"
   ]
  },
  {
   "cell_type": "markdown",
   "metadata": {},
   "source": [
    "创建一个字典对应列名**中英文关系**"
   ]
  },
  {
   "cell_type": "code",
   "execution_count": 91,
   "metadata": {},
   "outputs": [],
   "source": [
    "meaning={'PassengerId':'（乘客编号）',\n",
    "'Survived':'（是否幸存）',\n",
    "'Pclass':'（舱位等级）',\n",
    "'Name':'（姓名）',\n",
    "'Sex':'（性别）',\n",
    "'Age':'（年龄）',\n",
    "'SibSp':'（兄弟姐妹/配偶数量）',\n",
    "'Parch':'（父母/子女数量）',\n",
    "'Ticket':'（船票号码）',\n",
    "'Fare':'（票价）',\n",
    "'Cabin':'（船舱号）',\n",
    "'Embarked':'（登船港口）'}\n"
   ]
  },
  {
   "cell_type": "markdown",
   "metadata": {},
   "source": [
    "# 删除冗余数据，处理缺失值"
   ]
  },
  {
   "cell_type": "code",
   "execution_count": 92,
   "metadata": {},
   "outputs": [],
   "source": [
    "#删除不需要的列\n",
    "columns_to_drop=['PassengerId','Name','Ticket','SibSp','Parch']\n",
    "#删除不需要的列后的数据\n",
    "data_reduced=data.drop(columns=columns_to_drop,axis=1)\n",
    "\n"
   ]
  },
  {
   "cell_type": "code",
   "execution_count": 93,
   "metadata": {},
   "outputs": [
    {
     "name": "stdout",
     "output_type": "stream",
     "text": [
      "Survived      0\n",
      "Pclass        0\n",
      "Sex           0\n",
      "Age          86\n",
      "Fare          1\n",
      "Cabin       327\n",
      "Embarked      0\n",
      "dtype: int64\n"
     ]
    }
   ],
   "source": [
    "#查看缺失值\n",
    "print(data_reduced.isnull().sum())"
   ]
  },
  {
   "cell_type": "markdown",
   "metadata": {},
   "source": [
    "**船舱号**有大量缺失值，失去意义，删去"
   ]
  },
  {
   "cell_type": "code",
   "execution_count": 94,
   "metadata": {},
   "outputs": [],
   "source": [
    "data_reduced.drop(columns=['Cabin'],axis=1,inplace=True)\n"
   ]
  },
  {
   "cell_type": "code",
   "execution_count": 95,
   "metadata": {},
   "outputs": [
    {
     "name": "stdout",
     "output_type": "stream",
     "text": [
      "['Survived', 'Pclass', 'Sex', 'Age', 'Fare', 'Embarked']\n"
     ]
    }
   ],
   "source": [
    "print(data_reduced.columns.to_list())"
   ]
  },
  {
   "cell_type": "code",
   "execution_count": 96,
   "metadata": {},
   "outputs": [
    {
     "name": "stdout",
     "output_type": "stream",
     "text": [
      "0\n"
     ]
    }
   ],
   "source": [
    "#用中位数填充年龄缺失值\n",
    "data_reduced['Age']=data_reduced['Age'].fillna(data_reduced['Age'].median())\n",
    "\n",
    "print(data_reduced['Age'].isnull().sum())"
   ]
  },
  {
   "cell_type": "code",
   "execution_count": 97,
   "metadata": {},
   "outputs": [
    {
     "name": "stdout",
     "output_type": "stream",
     "text": [
      "     Survived  Pclass   Sex   Age  Fare Embarked\n",
      "152         0       3  male  60.5   NaN        S\n"
     ]
    }
   ],
   "source": [
    "#定位fare缺失值所在的行\n",
    "print(data_reduced[data_reduced['Fare'].isnull()])"
   ]
  },
  {
   "cell_type": "code",
   "execution_count": 98,
   "metadata": {},
   "outputs": [
    {
     "name": "stdout",
     "output_type": "stream",
     "text": [
      "7.8958\n"
     ]
    }
   ],
   "source": [
    "#用相同舱位等级的乘客的票价中位数填充缺失值\n",
    "pclass3_fare_median=data_reduced[data_reduced['Pclass']==3]['Fare'].median()\n",
    "print(pclass3_fare_median)\n",
    "data_reduced['Fare']=data_reduced['Fare'].fillna(pclass3_fare_median)"
   ]
  },
  {
   "cell_type": "code",
   "execution_count": 99,
   "metadata": {},
   "outputs": [
    {
     "name": "stdout",
     "output_type": "stream",
     "text": [
      "Survived    0\n",
      "Pclass      0\n",
      "Sex         0\n",
      "Age         0\n",
      "Fare        0\n",
      "Embarked    0\n",
      "dtype: int64\n"
     ]
    }
   ],
   "source": [
    "#查看缺失值\n",
    "print(data_reduced.isnull().sum())"
   ]
  },
  {
   "cell_type": "markdown",
   "metadata": {},
   "source": [
    "# 数据转换\n",
    "## 分类变量编码\n",
    "### 对Sex列标签编码"
   ]
  },
  {
   "cell_type": "code",
   "execution_count": 100,
   "metadata": {},
   "outputs": [
    {
     "name": "stdout",
     "output_type": "stream",
     "text": [
      "   Sex_encoded     Sex\n",
      "0            1    male\n",
      "1            0  female\n",
      "2            1    male\n",
      "3            1    male\n",
      "4            0  female\n"
     ]
    }
   ],
   "source": [
    "from sklearn.preprocessing import LabelEncoder\n",
    "\n",
    "le=LabelEncoder();\n",
    "data_reduced[\"Sex_encoded\"]=le.fit_transform(data_reduced['Sex'])\n",
    "print(data_reduced[['Sex_encoded','Sex']].head(5))"
   ]
  },
  {
   "cell_type": "markdown",
   "metadata": {},
   "source": [
    "可以看出`fit_transform`将0和male对应，1和female对应\n",
    "\n",
    "### 对Embarked列独热编码"
   ]
  },
  {
   "cell_type": "code",
   "execution_count": 101,
   "metadata": {},
   "outputs": [
    {
     "name": "stdout",
     "output_type": "stream",
     "text": [
      "   Embarked_C  Embarked_Q  Embarked_S\n",
      "0       False        True       False\n",
      "1       False       False        True\n",
      "2       False        True       False\n",
      "3       False       False        True\n",
      "4       False       False        True\n",
      "   Embarked_C  Embarked_Q  Embarked_S\n",
      "0       False        True       False\n",
      "1       False       False        True\n",
      "2       False        True       False\n",
      "3       False       False        True\n",
      "4       False       False        True\n"
     ]
    }
   ],
   "source": [
    "embarked_dummies=pd.get_dummies(data_reduced['Embarked'],prefix='Embarked')\n",
    "\n",
    "data_reduced=pd.concat([data_reduced,embarked_dummies],axis=1)\n",
    "\n",
    "print(embarked_dummies.head(5))\n",
    "print(data_reduced[['Embarked_C','Embarked_Q','Embarked_S']].head(5))"
   ]
  },
  {
   "cell_type": "markdown",
   "metadata": {},
   "source": [
    "## 连续变量分箱\n",
    "### 将年龄分为儿童/成人/老人"
   ]
  },
  {
   "cell_type": "code",
   "execution_count": 102,
   "metadata": {},
   "outputs": [
    {
     "name": "stdout",
     "output_type": "stream",
     "text": [
      "    Age AgeGroup\n",
      "0  34.5    Adult\n",
      "1  47.0    Adult\n",
      "2  62.0  Elderly\n",
      "3  27.0    Adult\n",
      "4  22.0    Adult\n"
     ]
    }
   ],
   "source": [
    "# 定义分箱边界和标签\n",
    "bins = [0, 12, 18, 60, 100]\n",
    "labels = ['Child', 'Teen', 'Adult', 'Elderly']\n",
    "\n",
    "data_reduced['AgeGroup']=pd.cut(data_reduced['Age'],bins=bins, labels=labels)\n",
    "print(data_reduced[['Age','AgeGroup']].head(5))"
   ]
  },
  {
   "cell_type": "code",
   "execution_count": null,
   "metadata": {},
   "outputs": [],
   "source": []
  },
  {
   "cell_type": "markdown",
   "metadata": {},
   "source": [
    "## 特征缩放"
   ]
  },
  {
   "cell_type": "code",
   "execution_count": 103,
   "metadata": {},
   "outputs": [
    {
     "name": "stdout",
     "output_type": "stream",
     "text": [
      "   Age_scaled  Fare_scaled\n",
      "0    0.452723     0.015282\n",
      "1    0.617566     0.013663\n",
      "2    0.815377     0.018909\n",
      "3    0.353818     0.016908\n",
      "4    0.287881     0.023984\n"
     ]
    }
   ],
   "source": [
    "#归一化\n",
    "from sklearn.preprocessing import MinMaxScaler\n",
    "scaler=MinMaxScaler()\n",
    "\n",
    "data_reduced['Age_scaled']=scaler.fit_transform(data_reduced[['Age']])\n",
    "data_reduced['Fare_scaled']=scaler.fit_transform(data_reduced[['Fare']])\n",
    "print(data_reduced[['Age_scaled','Fare_scaled']].head(5))"
   ]
  },
  {
   "cell_type": "markdown",
   "metadata": {},
   "source": [
    "# 数学建模建立预测模型（随机森林）"
   ]
  },
  {
   "cell_type": "code",
   "execution_count": 104,
   "metadata": {},
   "outputs": [
    {
     "name": "stdout",
     "output_type": "stream",
     "text": [
      "   Survived  Pclass     Sex   Age     Fare Embarked  Sex_encoded  Embarked_C  \\\n",
      "0         0       3    male  34.5   7.8292        Q            1       False   \n",
      "1         1       3  female  47.0   7.0000        S            0       False   \n",
      "2         0       2    male  62.0   9.6875        Q            1       False   \n",
      "3         0       3    male  27.0   8.6625        S            1       False   \n",
      "4         1       3  female  22.0  12.2875        S            0       False   \n",
      "\n",
      "   Embarked_Q  Embarked_S AgeGroup  Age_scaled  Fare_scaled  \n",
      "0        True       False    Adult    0.452723     0.015282  \n",
      "1       False        True    Adult    0.617566     0.013663  \n",
      "2        True       False  Elderly    0.815377     0.018909  \n",
      "3       False        True    Adult    0.353818     0.016908  \n",
      "4       False        True    Adult    0.287881     0.023984  \n"
     ]
    }
   ],
   "source": [
    "#查看数据\n",
    "print(data_reduced.head(5))\n",
    "\n"
   ]
  },
  {
   "cell_type": "code",
   "execution_count": 105,
   "metadata": {},
   "outputs": [],
   "source": [
    "#划分特征和目标变量\n",
    "y=data_reduced['Survived']\n",
    "features=['Pclass','Sex_encoded','Age_scaled','Fare_scaled','Embarked_C','Embarked_Q','Embarked_S']\n",
    "x=data_reduced[features]"
   ]
  },
  {
   "cell_type": "code",
   "execution_count": 106,
   "metadata": {},
   "outputs": [
    {
     "name": "stdout",
     "output_type": "stream",
     "text": [
      "训练集大小: (334, 7)\n",
      "测试集大小: (84, 7)\n"
     ]
    }
   ],
   "source": [
    "#划分训练集和测试集\n",
    "from sklearn.model_selection import train_test_split\n",
    "\n",
    "x_train,x_test,y_train,y_test=train_test_split(x,y,test_size=0.2,random_state=666)\n",
    "\n",
    "print(\"训练集大小:\",x_train.shape)\n",
    "print(\"测试集大小:\",x_test.shape)"
   ]
  },
  {
   "cell_type": "code",
   "execution_count": 110,
   "metadata": {},
   "outputs": [],
   "source": [
    "from sklearn.ensemble import RandomForestClassifier\n",
    "from sklearn.metrics import accuracy_score\n",
    "\n",
    "model=RandomForestClassifier(n_estimators=5,random_state=666)\n",
    "\n",
    "model.fit(x_train,y_train)\n",
    "y_pred=model.predict(x_test)"
   ]
  },
  {
   "cell_type": "code",
   "execution_count": 111,
   "metadata": {},
   "outputs": [
    {
     "name": "stdout",
     "output_type": "stream",
     "text": [
      "模型准确率: 1.0\n"
     ]
    }
   ],
   "source": [
    "accuracy=accuracy_score(y_test,y_pred)\n",
    "print(\"模型准确率:\",accuracy)\n",
    "\n",
    "importances = model.feature_importances_\n",
    "feature_importance = pd.DataFrame({'Feature': x.columns, 'Importance': importances})\n",
    "#print(feature_importance.head(5))\n"
   ]
  },
  {
   "cell_type": "code",
   "execution_count": 109,
   "metadata": {},
   "outputs": [
    {
     "name": "stdout",
     "output_type": "stream",
     "text": [
      "       Feature  Importance\n",
      "1  Sex_encoded    0.886936\n",
      "3  Fare_scaled    0.055245\n",
      "2   Age_scaled    0.039255\n",
      "5   Embarked_Q    0.010597\n",
      "0       Pclass    0.006387\n",
      "6   Embarked_S    0.000963\n",
      "4   Embarked_C    0.000618\n"
     ]
    },
    {
     "data": {
      "image/png": "[encoded data removed]",
      "text/plain": [
       "<Figure size 640x480 with 1 Axes>"
      ]
     },
     "metadata": {},
     "output_type": "display_data"
    }
   ],
   "source": [
    "feature_importance=feature_importance.sort_values(by='Importance', ascending=False)\n",
    "print(feature_importance)\n",
    "\n",
    "import seaborn as sns\n",
    "import matplotlib.pyplot as plt\n",
    "sns.barplot(x='Importance', y='Feature', data=feature_importance)\n",
    "plt.xlabel('Importance Score')\n",
    "plt.ylabel('Feature')\n",
    "plt.title('Feature Importance')\n",
    "plt.show()"
   ]
  }
 ],
 "metadata": {
  "kernelspec": {
   "display_name": "py310",
   "language": "python",
   "name": "python3"
  },
  "language_info": {
   "codemirror_mode": {
    "name": "ipython",
    "version": 3
   },
   "file_extension": ".py",
   "mimetype": "text/x-python",
   "name": "python",
   "nbconvert_exporter": "python",
   "pygments_lexer": "ipython3",
   "version": "3.10.16"
  }
 },
 "nbformat": 4,
 "nbformat_minor": 2
}
